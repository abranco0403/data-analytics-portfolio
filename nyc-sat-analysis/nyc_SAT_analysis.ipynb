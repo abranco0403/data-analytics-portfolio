{
 "cells": [
  {
   "cell_type": "code",
   "execution_count": 44,
   "id": "b0e9b4fc-32e0-4787-84fe-f54c52b56478",
   "metadata": {},
   "outputs": [],
   "source": [
    "# Installing required packages\n",
    "!pip install pandas ipython-sql sqlalchemy --quiet"
   ]
  },
  {
   "cell_type": "code",
   "execution_count": 46,
   "id": "e2e3beb4-a603-4fab-8282-7865ac9d8b79",
   "metadata": {},
   "outputs": [],
   "source": [
    "# Importing Python libraries\n",
    "import pandas as pd\n",
    "import sqlite3\n",
    "import matplotlib.pyplot as plt\n",
    "import prettytable\n",
    "from prettytable import TableStyle"
   ]
  },
  {
   "cell_type": "code",
   "execution_count": 48,
   "id": "416b8703-d471-4ef5-a842-f49f468f6e1f",
   "metadata": {},
   "outputs": [],
   "source": [
    "# Fixing prettytable style error\n",
    "prettytable.DEFAULT = TableStyle.PLAIN_COLUMNS"
   ]
  },
  {
   "cell_type": "code",
   "execution_count": 56,
   "id": "de33d189-1a91-43da-a726-1bae83ff8166",
   "metadata": {},
   "outputs": [
    {
     "name": "stdout",
     "output_type": "stream",
     "text": [
      "The sql extension is already loaded. To reload it, use:\n",
      "  %reload_ext sql\n"
     ]
    }
   ],
   "source": [
    "# Loading SQL magic\n",
    "%load_ext sql\n",
    "\n",
    "# Connecting SQL magic to SQLite database\n",
    "%sql sqlite:///schools.db"
   ]
  },
  {
   "cell_type": "code",
   "execution_count": 60,
   "id": "335e1b81-4790-4d54-ac4e-506ff2f4d775",
   "metadata": {},
   "outputs": [
    {
     "data": {
      "text/plain": [
       "Index(['school_name', 'borough', 'building_code', 'average_math',\n",
       "       'average_reading', 'average_writing', 'percent_tested', 'total_SAT'],\n",
       "      dtype='object')"
      ]
     },
     "execution_count": 60,
     "metadata": {},
     "output_type": "execute_result"
    }
   ],
   "source": [
    "# Loading CSV into pandas\n",
    "df = pd.read_csv(\"schools.csv\")\n",
    "\n",
    "# Convert SAT score columns to numeric\n",
    "df[[\"average_math\", \"average_reading\", \"average_writing\"]] = df[[\"average_math\", \"average_reading\", \"average_writing\"]].apply(pd.to_numeric, errors=\"coerce\")\n",
    "\n",
    "# Drop rows with missing SAT scores\n",
    "df.dropna(subset=[\"average_math\", \"average_reading\", \"average_writing\"], inplace=True)\n",
    "\n",
    "# Create total SAT score column\n",
    "df[\"total_SAT\"] = df[\"average_math\"] + df[\"average_reading\"] + df[\"average_writing\"]\n",
    "\n",
    "# Save cleaned DataFrame to SQLite\n",
    "conn = sqlite3.connect('schools.db')\n",
    "df.to_sql('schools', conn, if_exists='replace', index=False)\n",
    "conn.close()\n",
    "\n",
    "# Check columns\n",
    "df.columns"
   ]
  },
  {
   "cell_type": "code",
   "execution_count": 64,
   "id": "61fda275-9488-46e0-a5bd-3d5176c516d8",
   "metadata": {},
   "outputs": [
    {
     "name": "stdout",
     "output_type": "stream",
     "text": [
      " * sqlite:///schools.db\n",
      "Done.\n"
     ]
    },
    {
     "data": {
      "text/html": [
       "<table>\n",
       "    <thead>\n",
       "        <tr>\n",
       "            <th>school_name</th>\n",
       "            <th>average_math</th>\n",
       "        </tr>\n",
       "    </thead>\n",
       "    <tbody>\n",
       "        <tr>\n",
       "            <td>Stuyvesant High School</td>\n",
       "            <td>754</td>\n",
       "        </tr>\n",
       "        <tr>\n",
       "            <td>Bronx High School of Science</td>\n",
       "            <td>714</td>\n",
       "        </tr>\n",
       "        <tr>\n",
       "            <td>Staten Island Technical High School</td>\n",
       "            <td>711</td>\n",
       "        </tr>\n",
       "        <tr>\n",
       "            <td>Queens High School for the Sciences at York College</td>\n",
       "            <td>701</td>\n",
       "        </tr>\n",
       "        <tr>\n",
       "            <td>High School for Mathematics, Science, and Engineering at City College</td>\n",
       "            <td>683</td>\n",
       "        </tr>\n",
       "        <tr>\n",
       "            <td>Brooklyn Technical High School</td>\n",
       "            <td>682</td>\n",
       "        </tr>\n",
       "        <tr>\n",
       "            <td>Townsend Harris High School</td>\n",
       "            <td>680</td>\n",
       "        </tr>\n",
       "        <tr>\n",
       "            <td>High School of American Studies at Lehman College</td>\n",
       "            <td>669</td>\n",
       "        </tr>\n",
       "        <tr>\n",
       "            <td>New Explorations into Science, Technology and Math High School</td>\n",
       "            <td>657</td>\n",
       "        </tr>\n",
       "        <tr>\n",
       "            <td>Eleanor Roosevelt High School</td>\n",
       "            <td>641</td>\n",
       "        </tr>\n",
       "    </tbody>\n",
       "</table>"
      ],
      "text/plain": [
       "[('Stuyvesant High School', 754),\n",
       " ('Bronx High School of Science', 714),\n",
       " ('Staten Island Technical High School', 711),\n",
       " ('Queens High School for the Sciences at York College', 701),\n",
       " ('High School for Mathematics, Science, and Engineering at City College', 683),\n",
       " ('Brooklyn Technical High School', 682),\n",
       " ('Townsend Harris High School', 680),\n",
       " ('High School of American Studies at Lehman College', 669),\n",
       " ('New Explorations into Science, Technology and Math High School', 657),\n",
       " ('Eleanor Roosevelt High School', 641)]"
      ]
     },
     "execution_count": 64,
     "metadata": {},
     "output_type": "execute_result"
    }
   ],
   "source": [
    "%%sql\n",
    "-- #1 Best Math Results (>=640)\n",
    "\n",
    "SELECT school_name, average_math\n",
    "FROM schools\n",
    "WHERE average_math >= 640\n",
    "ORDER BY average_math DESC;\n"
   ]
  },
  {
   "cell_type": "code",
   "execution_count": 96,
   "id": "3e29cc77-7053-4ced-9683-78f0d0e22409",
   "metadata": {},
   "outputs": [
    {
     "name": "stdout",
     "output_type": "stream",
     "text": [
      " * sqlite:///schools.db\n",
      "Done.\n"
     ]
    },
    {
     "data": {
      "text/html": [
       "<table>\n",
       "    <thead>\n",
       "        <tr>\n",
       "            <th>school_name</th>\n",
       "            <th>average_math</th>\n",
       "            <th>math_percentile</th>\n",
       "        </tr>\n",
       "    </thead>\n",
       "    <tbody>\n",
       "        <tr>\n",
       "            <td>Stuyvesant High School</td>\n",
       "            <td>754</td>\n",
       "            <td>0.0</td>\n",
       "        </tr>\n",
       "        <tr>\n",
       "            <td>Bronx High School of Science</td>\n",
       "            <td>714</td>\n",
       "            <td>0.00267379679144385</td>\n",
       "        </tr>\n",
       "        <tr>\n",
       "            <td>Staten Island Technical High School</td>\n",
       "            <td>711</td>\n",
       "            <td>0.0053475935828877</td>\n",
       "        </tr>\n",
       "        <tr>\n",
       "            <td>Queens High School for the Sciences at York College</td>\n",
       "            <td>701</td>\n",
       "            <td>0.008021390374331552</td>\n",
       "        </tr>\n",
       "        <tr>\n",
       "            <td>High School for Mathematics, Science, and Engineering at City College</td>\n",
       "            <td>683</td>\n",
       "            <td>0.0106951871657754</td>\n",
       "        </tr>\n",
       "        <tr>\n",
       "            <td>Brooklyn Technical High School</td>\n",
       "            <td>682</td>\n",
       "            <td>0.013368983957219251</td>\n",
       "        </tr>\n",
       "        <tr>\n",
       "            <td>Townsend Harris High School</td>\n",
       "            <td>680</td>\n",
       "            <td>0.016042780748663103</td>\n",
       "        </tr>\n",
       "        <tr>\n",
       "            <td>High School of American Studies at Lehman College</td>\n",
       "            <td>669</td>\n",
       "            <td>0.01871657754010695</td>\n",
       "        </tr>\n",
       "        <tr>\n",
       "            <td>New Explorations into Science, Technology and Math High School</td>\n",
       "            <td>657</td>\n",
       "            <td>0.0213903743315508</td>\n",
       "        </tr>\n",
       "        <tr>\n",
       "            <td>Eleanor Roosevelt High School</td>\n",
       "            <td>641</td>\n",
       "            <td>0.02406417112299465</td>\n",
       "        </tr>\n",
       "    </tbody>\n",
       "</table>"
      ],
      "text/plain": [
       "[('Stuyvesant High School', 754, 0.0),\n",
       " ('Bronx High School of Science', 714, 0.00267379679144385),\n",
       " ('Staten Island Technical High School', 711, 0.0053475935828877),\n",
       " ('Queens High School for the Sciences at York College', 701, 0.008021390374331552),\n",
       " ('High School for Mathematics, Science, and Engineering at City College', 683, 0.0106951871657754),\n",
       " ('Brooklyn Technical High School', 682, 0.013368983957219251),\n",
       " ('Townsend Harris High School', 680, 0.016042780748663103),\n",
       " ('High School of American Studies at Lehman College', 669, 0.01871657754010695),\n",
       " ('New Explorations into Science, Technology and Math High School', 657, 0.0213903743315508),\n",
       " ('Eleanor Roosevelt High School', 641, 0.02406417112299465)]"
      ]
     },
     "execution_count": 96,
     "metadata": {},
     "output_type": "execute_result"
    }
   ],
   "source": [
    "%%sql\n",
    "-- #2 Weighted Math Scores\n",
    "\n",
    "SELECT\n",
    "  school_name,\n",
    "  average_math,\n",
    "  PERCENT_RANK() OVER (ORDER BY average_math DESC) AS math_percentile\n",
    "FROM schools\n",
    "ORDER BY average_math DESC\n",
    "LIMIT 10;"
   ]
  },
  {
   "cell_type": "code",
   "execution_count": 94,
   "id": "550d2211-3e45-4c4b-aa57-c2a000488a58",
   "metadata": {},
   "outputs": [
    {
     "name": "stdout",
     "output_type": "stream",
     "text": [
      " * sqlite:///schools.db\n",
      "Done.\n"
     ]
    },
    {
     "data": {
      "text/html": [
       "<table>\n",
       "    <thead>\n",
       "        <tr>\n",
       "            <th>school_name</th>\n",
       "            <th>average_math</th>\n",
       "            <th>math_percentile</th>\n",
       "        </tr>\n",
       "    </thead>\n",
       "    <tbody>\n",
       "        <tr>\n",
       "            <td>Stuyvesant High School</td>\n",
       "            <td>754</td>\n",
       "            <td>0.0</td>\n",
       "        </tr>\n",
       "        <tr>\n",
       "            <td>Bronx High School of Science</td>\n",
       "            <td>714</td>\n",
       "            <td>0.00267379679144385</td>\n",
       "        </tr>\n",
       "        <tr>\n",
       "            <td>Staten Island Technical High School</td>\n",
       "            <td>711</td>\n",
       "            <td>0.0053475935828877</td>\n",
       "        </tr>\n",
       "        <tr>\n",
       "            <td>Queens High School for the Sciences at York College</td>\n",
       "            <td>701</td>\n",
       "            <td>0.008021390374331552</td>\n",
       "        </tr>\n",
       "        <tr>\n",
       "            <td>High School for Mathematics, Science, and Engineering at City College</td>\n",
       "            <td>683</td>\n",
       "            <td>0.0106951871657754</td>\n",
       "        </tr>\n",
       "        <tr>\n",
       "            <td>Brooklyn Technical High School</td>\n",
       "            <td>682</td>\n",
       "            <td>0.013368983957219251</td>\n",
       "        </tr>\n",
       "        <tr>\n",
       "            <td>Townsend Harris High School</td>\n",
       "            <td>680</td>\n",
       "            <td>0.016042780748663103</td>\n",
       "        </tr>\n",
       "        <tr>\n",
       "            <td>High School of American Studies at Lehman College</td>\n",
       "            <td>669</td>\n",
       "            <td>0.01871657754010695</td>\n",
       "        </tr>\n",
       "        <tr>\n",
       "            <td>New Explorations into Science, Technology and Math High School</td>\n",
       "            <td>657</td>\n",
       "            <td>0.0213903743315508</td>\n",
       "        </tr>\n",
       "        <tr>\n",
       "            <td>Eleanor Roosevelt High School</td>\n",
       "            <td>641</td>\n",
       "            <td>0.02406417112299465</td>\n",
       "        </tr>\n",
       "    </tbody>\n",
       "</table>"
      ],
      "text/plain": [
       "[('Stuyvesant High School', 754, 0.0),\n",
       " ('Bronx High School of Science', 714, 0.00267379679144385),\n",
       " ('Staten Island Technical High School', 711, 0.0053475935828877),\n",
       " ('Queens High School for the Sciences at York College', 701, 0.008021390374331552),\n",
       " ('High School for Mathematics, Science, and Engineering at City College', 683, 0.0106951871657754),\n",
       " ('Brooklyn Technical High School', 682, 0.013368983957219251),\n",
       " ('Townsend Harris High School', 680, 0.016042780748663103),\n",
       " ('High School of American Studies at Lehman College', 669, 0.01871657754010695),\n",
       " ('New Explorations into Science, Technology and Math High School', 657, 0.0213903743315508),\n",
       " ('Eleanor Roosevelt High School', 641, 0.02406417112299465)]"
      ]
     },
     "execution_count": 94,
     "metadata": {},
     "output_type": "execute_result"
    }
   ],
   "source": [
    "%%sql\n",
    "-- Math Score Percentile\n",
    "\n",
    "SELECT\n",
    "  school_name,\n",
    "  average_math,\n",
    "  PERCENT_RANK() OVER (ORDER BY average_math DESC) AS math_percentile\n",
    "FROM schools\n",
    "ORDER BY average_math DESC\n",
    "LIMIT 10;"
   ]
  },
  {
   "cell_type": "code",
   "execution_count": 100,
   "id": "27dd5f0b-6bef-410d-be53-3dc2db5e9387",
   "metadata": {},
   "outputs": [
    {
     "name": "stdout",
     "output_type": "stream",
     "text": [
      " * sqlite:///schools.db\n",
      "Done.\n"
     ]
    },
    {
     "data": {
      "text/html": [
       "<table>\n",
       "    <thead>\n",
       "        <tr>\n",
       "            <th>school_name</th>\n",
       "            <th>borough</th>\n",
       "            <th>average_math</th>\n",
       "            <th>borough_math_avg</th>\n",
       "            <th>math_diff_from_borough_avg</th>\n",
       "        </tr>\n",
       "    </thead>\n",
       "    <tbody>\n",
       "        <tr>\n",
       "            <td>Bronx High School of Science</td>\n",
       "            <td>Bronx</td>\n",
       "            <td>714</td>\n",
       "            <td>404.35714285714283</td>\n",
       "            <td>309.64285714285717</td>\n",
       "        </tr>\n",
       "        <tr>\n",
       "            <td>Stuyvesant High School</td>\n",
       "            <td>Manhattan</td>\n",
       "            <td>754</td>\n",
       "            <td>455.8876404494382</td>\n",
       "            <td>298.1123595505618</td>\n",
       "        </tr>\n",
       "        <tr>\n",
       "            <td>Brooklyn Technical High School</td>\n",
       "            <td>Brooklyn</td>\n",
       "            <td>682</td>\n",
       "            <td>416.4036697247706</td>\n",
       "            <td>265.5963302752294</td>\n",
       "        </tr>\n",
       "        <tr>\n",
       "            <td>High School of American Studies at Lehman College</td>\n",
       "            <td>Bronx</td>\n",
       "            <td>669</td>\n",
       "            <td>404.35714285714283</td>\n",
       "            <td>264.64285714285717</td>\n",
       "        </tr>\n",
       "        <tr>\n",
       "            <td>Queens High School for the Sciences at York College</td>\n",
       "            <td>Queens</td>\n",
       "            <td>701</td>\n",
       "            <td>462.3623188405797</td>\n",
       "            <td>238.6376811594203</td>\n",
       "        </tr>\n",
       "        <tr>\n",
       "            <td>High School for Mathematics, Science, and Engineering at City College</td>\n",
       "            <td>Manhattan</td>\n",
       "            <td>683</td>\n",
       "            <td>455.8876404494382</td>\n",
       "            <td>227.1123595505618</td>\n",
       "        </tr>\n",
       "        <tr>\n",
       "            <td>Staten Island Technical High School</td>\n",
       "            <td>Staten Island</td>\n",
       "            <td>711</td>\n",
       "            <td>486.2</td>\n",
       "            <td>224.8</td>\n",
       "        </tr>\n",
       "        <tr>\n",
       "            <td>Townsend Harris High School</td>\n",
       "            <td>Queens</td>\n",
       "            <td>680</td>\n",
       "            <td>462.3623188405797</td>\n",
       "            <td>217.6376811594203</td>\n",
       "        </tr>\n",
       "        <tr>\n",
       "            <td>Brooklyn Latin School</td>\n",
       "            <td>Brooklyn</td>\n",
       "            <td>625</td>\n",
       "            <td>416.4036697247706</td>\n",
       "            <td>208.59633027522938</td>\n",
       "        </tr>\n",
       "        <tr>\n",
       "            <td>New Explorations into Science, Technology and Math High School</td>\n",
       "            <td>Manhattan</td>\n",
       "            <td>657</td>\n",
       "            <td>455.8876404494382</td>\n",
       "            <td>201.1123595505618</td>\n",
       "        </tr>\n",
       "    </tbody>\n",
       "</table>"
      ],
      "text/plain": [
       "[('Bronx High School of Science', 'Bronx', 714, 404.35714285714283, 309.64285714285717),\n",
       " ('Stuyvesant High School', 'Manhattan', 754, 455.8876404494382, 298.1123595505618),\n",
       " ('Brooklyn Technical High School', 'Brooklyn', 682, 416.4036697247706, 265.5963302752294),\n",
       " ('High School of American Studies at Lehman College', 'Bronx', 669, 404.35714285714283, 264.64285714285717),\n",
       " ('Queens High School for the Sciences at York College', 'Queens', 701, 462.3623188405797, 238.6376811594203),\n",
       " ('High School for Mathematics, Science, and Engineering at City College', 'Manhattan', 683, 455.8876404494382, 227.1123595505618),\n",
       " ('Staten Island Technical High School', 'Staten Island', 711, 486.2, 224.8),\n",
       " ('Townsend Harris High School', 'Queens', 680, 462.3623188405797, 217.6376811594203),\n",
       " ('Brooklyn Latin School', 'Brooklyn', 625, 416.4036697247706, 208.59633027522938),\n",
       " ('New Explorations into Science, Technology and Math High School', 'Manhattan', 657, 455.8876404494382, 201.1123595505618)]"
      ]
     },
     "execution_count": 100,
     "metadata": {},
     "output_type": "execute_result"
    }
   ],
   "source": [
    "%%sql\n",
    "-- Difference from Borough Average\n",
    "\n",
    "WITH borough_avg AS (\n",
    "  SELECT borough, AVG(average_math) AS borough_math_avg\n",
    "  FROM schools\n",
    "  GROUP BY borough\n",
    ")\n",
    "SELECT\n",
    "  s.school_name,\n",
    "  s.borough,\n",
    "  s.average_math,\n",
    "  b.borough_math_avg,\n",
    "  s.average_math - b.borough_math_avg AS math_diff_from_borough_avg\n",
    "FROM schools s\n",
    "JOIN borough_avg b ON s.borough = b.borough\n",
    "ORDER BY math_diff_from_borough_avg DESC\n",
    "LIMIT 10;\n"
   ]
  },
  {
   "cell_type": "code",
   "execution_count": 72,
   "id": "4d125439-90d7-4fc4-b927-2790baf81b9a",
   "metadata": {},
   "outputs": [
    {
     "name": "stdout",
     "output_type": "stream",
     "text": [
      " * sqlite:///schools.db\n",
      "Done.\n"
     ]
    }
   ],
   "source": [
    "#Top 10 Total SAT Scores\n",
    "top_10_schools = %sql \\\n",
    "SELECT school_name, \\\n",
    "       (average_math + average_reading + average_writing) AS total_SAT \\\n",
    "FROM schools \\\n",
    "ORDER BY total_SAT DESC \\largest_std_dev = %sql \\\n",
    "WITH totals AS ( \\\n",
    "  SELECT borough, (average_math + average_reading + average_writing) AS total_SAT \\\n",
    "  FROM schools), \\\n",
    "stats AS ( \\\n",
    "  SELECT borough, COUNT(*) AS num_schools, \\\n",
    "         ROUND(AVG(total_SAT), 2) AS average_SAT, \\\n",
    "         ROUND(STDDEV(total_SAT), 2) AS std_SAT \\\n",
    "  FROM totals GROUP BY borough) \\\n",
    "SELECT * FROM stats ORDER BY std_SAT DESC LIMIT 1;\n",
    "\n",
    "largest_std_dev = largest_std_dev.DataFrame()\n",
    "largest_std_dev\n",
    "\n",
    "LIMIT 10;\n",
    "\n",
    "top_10_schools = top_10_schools.DataFrame()"
   ]
  },
  {
   "cell_type": "code",
   "execution_count": 74,
   "id": "d49433ea-3fb5-487b-b14a-2f61458a1850",
   "metadata": {},
   "outputs": [
    {
     "data": {
      "image/png": "[encoded data removed]",
      "text/plain": [
       "<Figure size 1000x600 with 1 Axes>"
      ]
     },
     "metadata": {},
     "output_type": "display_data"
    }
   ],
   "source": [
    "#Top 10 Schools by Total SAT\n",
    "\n",
    "plt.figure(figsize=(10, 6))\n",
    "plt.barh(top_10_schools[\"school_name\"], top_10_schools[\"total_SAT\"], color='skyblue')\n",
    "plt.xlabel(\"Total SAT Score\")\n",
    "plt.title(\"Top 10 NYC Schools by Total SAT Score\")\n",
    "plt.gca().invert_yaxis()\n",
    "plt.tight_layout()\n",
    "plt.show()\n"
   ]
  },
  {
   "cell_type": "code",
   "execution_count": 80,
   "id": "69bf1ffa-1de2-4828-8127-6a7d9ac9f57f",
   "metadata": {},
   "outputs": [
    {
     "name": "stdout",
     "output_type": "stream",
     "text": [
      " * sqlite:///schools.db\n",
      "Done.\n",
      "Returning data to local variable result\n"
     ]
    }
   ],
   "source": [
    "%%sql result <<\n",
    "SELECT \n",
    "    borough,\n",
    "    (average_math + average_reading + average_writing) AS total_SAT\n",
    "FROM schools;"
   ]
  },
  {
   "cell_type": "code",
   "execution_count": 82,
   "id": "5684a8f5-b834-421d-b736-22b49849d003",
   "metadata": {},
   "outputs": [
    {
     "data": {
      "text/html": [
       "<div>\n",
       "<style scoped>\n",
       "    .dataframe tbody tr th:only-of-type {\n",
       "        vertical-align: middle;\n",
       "    }\n",
       "\n",
       "    .dataframe tbody tr th {\n",
       "        vertical-align: top;\n",
       "    }\n",
       "\n",
       "    .dataframe thead th {\n",
       "        text-align: right;\n",
       "    }\n",
       "</style>\n",
       "<table border=\"1\" class=\"dataframe\">\n",
       "  <thead>\n",
       "    <tr style=\"text-align: right;\">\n",
       "      <th></th>\n",
       "      <th>borough</th>\n",
       "      <th>num_schools</th>\n",
       "      <th>average_SAT</th>\n",
       "      <th>std_SAT</th>\n",
       "    </tr>\n",
       "  </thead>\n",
       "  <tbody>\n",
       "    <tr>\n",
       "      <th>2</th>\n",
       "      <td>Manhattan</td>\n",
       "      <td>89</td>\n",
       "      <td>1340.13</td>\n",
       "      <td>230.29</td>\n",
       "    </tr>\n",
       "  </tbody>\n",
       "</table>\n",
       "</div>"
      ],
      "text/plain": [
       "     borough  num_schools  average_SAT  std_SAT\n",
       "2  Manhattan           89      1340.13   230.29"
      ]
     },
     "execution_count": 82,
     "metadata": {},
     "output_type": "execute_result"
    }
   ],
   "source": [
    "# Converting to DataFrame\n",
    "df_stats = result.DataFrame()\n",
    "\n",
    "# Grouping by borough and calculate stats\n",
    "largest_std_dev = (\n",
    "    df_stats.groupby(\"borough\")\n",
    "    .agg(\n",
    "        num_schools=(\"total_SAT\", \"count\"),\n",
    "        average_SAT=(\"total_SAT\", \"mean\"),\n",
    "        std_SAT=(\"total_SAT\", \"std\")\n",
    "    )\n",
    "    .round(2)\n",
    "    .reset_index()\n",
    ")\n",
    "\n",
    "# Getting borough with largest std dev\n",
    "largest_std_dev = largest_std_dev.sort_values(\"std_SAT\", ascending=False).head(1)\n",
    "largest_std_dev\n"
   ]
  },
  {
   "cell_type": "code",
   "execution_count": 90,
   "id": "84fd0d7f-03ad-4541-b82d-e2520a3dd6bf",
   "metadata": {},
   "outputs": [],
   "source": [
    "# Group by borough and calculate statistics\n",
    "stddevs_df = (\n",
    "    df_stats.groupby(\"borough\")\n",
    "    .agg(\n",
    "        num_schools=(\"total_SAT\", \"count\"),\n",
    "        average_SAT=(\"total_SAT\", \"mean\"),\n",
    "        std_SAT=(\"total_SAT\", \"std\")\n",
    "    )\n",
    "    .round(2)\n",
    "    .reset_index()\n",
    ")\n",
    "\n",
    "# Then extract the top one if needed\n",
    "largest_std_dev = stddevs_df.sort_values(\"std_SAT\", ascending=False).head(1)"
   ]
  },
  {
   "cell_type": "code",
   "execution_count": 106,
   "id": "c64ee39d-5490-4241-b884-4f4341272c83",
   "metadata": {},
   "outputs": [
    {
     "data": {
      "image/png": "[encoded data removed]",
      "text/plain": [
       "<Figure size 800x500 with 1 Axes>"
      ]
     },
     "metadata": {},
     "output_type": "display_data"
    }
   ],
   "source": [
    "import matplotlib.pyplot as plt\n",
    "\n",
    "plt.figure(figsize=(8, 5))\n",
    "plt.bar(stddevs_df[\"borough\"], stddevs_df[\"std_SAT\"], color=\"coral\")\n",
    "plt.ylabel(\"Standard Deviation of Total SAT\")\n",
    "plt.title(\"SAT Score Variability by Borough\")\n",
    "plt.xticks(rotation=45)\n",
    "plt.tight_layout()\n",
    "plt.show()"
   ]
  },
  {
   "cell_type": "code",
   "execution_count": null,
   "id": "f88a285a-7bd9-4500-b1dc-9a5614e3e733",
   "metadata": {},
   "outputs": [],
   "source": []
  }
 ],
 "metadata": {
  "kernelspec": {
   "display_name": "Python 3 (ipykernel)",
   "language": "python",
   "name": "python3"
  },
  "language_info": {
   "codemirror_mode": {
    "name": "ipython",
    "version": 3
   },
   "file_extension": ".py",
   "mimetype": "text/x-python",
   "name": "python",
   "nbconvert_exporter": "python",
   "pygments_lexer": "ipython3",
   "version": "3.12.7"
  }
 },
 "nbformat": 4,
 "nbformat_minor": 5
}
